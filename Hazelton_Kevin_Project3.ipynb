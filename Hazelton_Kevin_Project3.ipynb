{
  "cells": [
    {
      "cell_type": "markdown",
      "metadata": {
        "id": "xq__bChjD04e"
      },
      "source": [
        "# Python Assignment 1"
      ]
    },
    {
      "cell_type": "markdown",
      "metadata": {
        "id": "y7j2V0UDMYLG"
      },
      "source": [
        "⏱⏱⏱**Due: 10/20/2024 11:59:59 PM** ⏱⏱⏱\n",
        "\n",
        "Submit this notebook file and upload it to your git repo. Include a link to your git repo while submitting this file to Brightspace.\n",
        "\n",
        "You are not allowed to use chatgpt or any LLM in this assignment.\n",
        "Cooperation is allowed and encouraged; however, you must write up and submit your own work. If you cooperate with others, you must list their names here."
      ]
    },
    {
      "cell_type": "markdown",
      "metadata": {
        "id": "SUS30Ew9D04n"
      },
      "source": [
        "Total points: 100 (equivalent to 20 points after conversion)"
      ]
    },
    {
      "cell_type": "markdown",
      "metadata": {
        "id": "b_bgT3b2GYTB"
      },
      "source": [
        "## 0. Data Types, Structures, Indexing, and Slicing"
      ]
    },
    {
      "cell_type": "markdown",
      "metadata": {
        "id": "6yI1Jt57IwV2"
      },
      "source": [
        "Read the lecutre note as well as [this page](https://www.geeksforgeeks.org/mutable-vs-immutable-objects-in-python/) and [this page](https://www.geeksforgeeks.org/difference-between-shallow-and-deep-copy-of-a-class/). Complete the following questions.\n",
        "\n",
        "(5 points) Give some examples (at least 2) of mutable objects in Python.\n",
        "\n",
        "***Answer:*** Lists and Dictionaries are Mutable\n",
        "\n",
        "\n",
        "---\n",
        "\n",
        "\n",
        "\n",
        "(5 points) Give some examples (at least 2) of immutable objects in Python.\n",
        "\n",
        "***Answer:*** Tuples and Strings are Immutable\n",
        "\n",
        "\n",
        "---\n",
        "\n",
        "\n",
        "\n",
        "(10 points) State the differences between assignment, shallow copy, and deep copy. Any reasonable answer will get full credit.\n",
        "\n",
        "***Answer:*** Assignment copies the value of immutable data types. Assignment copies a reference to the mutable data type such that if the mutable data type is changed, the variable of assignment will also change. A shallow copy and a deep copy apply to objects which contain other objects, such as a list. When you shallow copy a list, you create a list of references to the original objects inside the original list. Alternatively, when you deep copy a list, you create a new list of copies of the original objects inside the original list. \n",
        "\n",
        "---\n",
        "\n",
        "\n",
        "\n"
      ]
    },
    {
      "cell_type": "markdown",
      "metadata": {
        "id": "OA8DxcrrGqZD"
      },
      "source": [
        "(10 points) Using string methods find() and rfind(), find the index of the first digit (i.e. 0) and the index of the last digit (5) in the string below. Then, using string slicing, extract the number (i.e. 0.595595) from this string and convert the extracted value to a floating point number. Print out this float to the console."
      ]
    },
    {
      "cell_type": "code",
      "execution_count": null,
      "metadata": {
        "id": "AUuFXXWqG4D3"
      },
      "outputs": [],
      "source": [
        "text = \"F-DGFDDSFGFD-CFDSHdstgfdfe: tfsd  aaa bdsf 0.595595 fdsgfdbc\";\n",
        "firstDigit = text.find(\"0\")\n",
        "lastDigit = text.rfind(\"5\")\n",
        "extractedNumber = text[firstDigit:lastDigit+1]\n",
        "floatNumber = float(extractedNumber)\n",
        "print(floatNumber)"
      ]
    },
    {
      "cell_type": "markdown",
      "metadata": {
        "id": "cnCljYgpD04p"
      },
      "source": [
        "## 1. Conditional Statements\n",
        "\n",
        "(10 points)\n",
        "Translate the following MATLAB code into Python using `if-elif-else`.\n",
        "```\n",
        "n = input('Enter a number: ');\n",
        "\n",
        "switch n\n",
        "    case -1\n",
        "        disp('negative one')\n",
        "    case 0\n",
        "        disp('zero')\n",
        "    case 1\n",
        "        disp('positive one')\n",
        "    otherwise\n",
        "        disp('other value')\n",
        "end\n",
        "```"
      ]
    },
    {
      "cell_type": "code",
      "execution_count": null,
      "metadata": {
        "collapsed": true,
        "id": "9d8vl5zjD04q"
      },
      "outputs": [],
      "source": [
        "n = int(input('Enter a number: '))\n",
        "\n",
        "if n == -1:\n",
        "    print('negative one')\n",
        "elif n == 0:\n",
        "    print('zero')\n",
        "elif n == 1:\n",
        "    print('positive one')\n",
        "else:\n",
        "    print('other value')"
      ]
    },
    {
      "cell_type": "markdown",
      "metadata": {
        "id": "sW9XiUPpD04s"
      },
      "source": [
        "## 2. While Loops\n",
        "\n",
        "(10 points) Write a Python program that calculates the factorial of a given number (you can assume an positive integer) using a while loop. Display the result to the console."
      ]
    },
    {
      "cell_type": "code",
      "execution_count": null,
      "metadata": {
        "colab": {
          "base_uri": "https://localhost:8080/"
        },
        "collapsed": true,
        "id": "CRCERx8uD04t",
        "outputId": "1870b9d1-fe04-4ae7-e5ec-08ce640ce72e"
      },
      "outputs": [],
      "source": [
        "n = int(input('Enter a positive integer'))\n",
        "nF = n\n",
        "\n",
        "while n > 1:\n",
        "    nF = nF*(n-1)\n",
        "    n = n - 1\n",
        "\n",
        "print(nF)\n",
        "\n",
        "\n",
        "# test cases\n",
        "# n = 17, Output: 355687428096000\n",
        "# n = 13, Output: 6227020800"
      ]
    },
    {
      "cell_type": "markdown",
      "metadata": {
        "id": "ZQ5SVMq6D04w"
      },
      "source": [
        "## 3. Functions\n",
        "\n",
        "(10 points) Write a function that determines if a number is prime."
      ]
    },
    {
      "cell_type": "code",
      "execution_count": 2,
      "metadata": {
        "colab": {
          "base_uri": "https://localhost:8080/"
        },
        "id": "6rGP5G3_D04x",
        "outputId": "00df2d17-b697-4146-968f-be4fa7cc3ba3"
      },
      "outputs": [
        {
          "name": "stdout",
          "output_type": "stream",
          "text": [
            "True\n",
            "False\n",
            "True\n"
          ]
        }
      ],
      "source": [
        "import math as m\n",
        "\n",
        "def is_prime(n):\n",
        "    #determines the upperbound on numbers to check for being a factor of n\n",
        "    upperBound = m.ceil(m.sqrt(n))\n",
        "    count = 0\n",
        "    if n == 2:\n",
        "        return True\n",
        "    else:\n",
        "        #for loop checking to see if n has any factors besides itself\n",
        "        for i in range(2,upperBound + 1):\n",
        "            if n % i == 0:\n",
        "                count = count + 1\n",
        "        if count == 0:\n",
        "            return True\n",
        "        else:\n",
        "            return False\n",
        "\n",
        "\n",
        "# test cases\n",
        "print(is_prime(2))      # Output: True\n",
        "print(is_prime(10))     # Output: False\n",
        "print(is_prime(17))     # Output: True"
      ]
    },
    {
      "cell_type": "markdown",
      "metadata": {
        "id": "Z6qg-fpQD04u"
      },
      "source": [
        "## 4. List Comprehension\n",
        "\n",
        "(10 points) Write a Python function called `prime_factors` that takes a relatively small integer as input and returns a list of its distinct prime factors. The function should use list comprehension to generate the list of distinct prime factors. You may use the function is_prime() defined in Q3.\n"
      ]
    },
    {
      "cell_type": "code",
      "execution_count": null,
      "metadata": {
        "colab": {
          "base_uri": "https://localhost:8080/"
        },
        "collapsed": true,
        "id": "2hSCjYlOD04v",
        "outputId": "1024d2e2-7d24-4e65-9529-e5a82d2a3211"
      },
      "outputs": [],
      "source": [
        "import math as m\n",
        "\n",
        "def is_prime(n):\n",
        "    upperBound = m.ceil(m.sqrt(n))\n",
        "    count = 0\n",
        "    if n == 2:\n",
        "        return True\n",
        "    else:\n",
        "        for i in range(2,upperBound + 1):\n",
        "            if n % i == 0:\n",
        "                count = count + 1\n",
        "        if count == 0:\n",
        "            return True\n",
        "        else:\n",
        "            return False\n",
        "\n",
        "def prime_factors(n):\n",
        "    factorList = []\n",
        "    #for loop that creates a list of all the factors of n\n",
        "    for i in range(2,n+1):\n",
        "        if n % i == 0:\n",
        "            factorList.append(i)\n",
        "    \n",
        "    #selects factors only if they are prime\n",
        "    primeList = [x for x in factorList if is_prime(x) == True]\n",
        "    return primeList\n",
        "\n",
        "\n",
        "# test cases\n",
        "print(prime_factors(30))  # Output: [2, 3, 5]\n",
        "print(prime_factors(56))  # Output: [2, 7]\n",
        "print(prime_factors(198))  # Output: [2, 3, 11]\n",
        "print(prime_factors(464))  # Output: [2, 29]"
      ]
    },
    {
      "cell_type": "markdown",
      "metadata": {
        "id": "dw4kZZCiD040"
      },
      "source": [
        "## 5. Recursive Functions\n",
        "(25 points) Write a function that uses recursion to generate the $n$th row of the Pascal's triangle.\n",
        "```\n",
        "              1\n",
        "           1     1\n",
        "        1     2     1\n",
        "      1    3     3     1\n",
        "   1    4     6     4    1\n",
        "1     5    10    10    5    1\n",
        "...\n",
        "...\n",
        "...\n",
        "```"
      ]
    },
    {
      "cell_type": "code",
      "execution_count": 49,
      "metadata": {
        "colab": {
          "base_uri": "https://localhost:8080/"
        },
        "id": "V8QFB_gKD040",
        "outputId": "4946dc49-2061-4057-e65d-9f48af44dac9"
      },
      "outputs": [
        {
          "name": "stdout",
          "output_type": "stream",
          "text": [
            "[1, 5, 10, 10, 5, 1]\n"
          ]
        }
      ],
      "source": [
        "def pascal(n):\n",
        "    pascalList = [1]\n",
        "    #Base Case\n",
        "    if n == 1:\n",
        "        return pascalList\n",
        "    else:\n",
        "        #for loop appending new values to the list based on previous pascal row values\n",
        "        for i in range(1,n):\n",
        "            if i == n-1:\n",
        "                pascalList.append(1)\n",
        "                return pascalList\n",
        "            else:\n",
        "                pascalList.append(pascal(n-1)[i-1]+pascal(n-1)[i])\n",
        "                \n",
        "\n",
        "\n",
        "# test case\n",
        "print(pascal(6))  # output [1, 5, 10, 10, 5, 1]"
      ]
    },
    {
      "cell_type": "markdown",
      "metadata": {
        "id": "eZytgm0qD041"
      },
      "source": [
        "Rewrite the above function using only `while` or `for` loops instead of recursion."
      ]
    },
    {
      "cell_type": "code",
      "execution_count": 59,
      "metadata": {
        "colab": {
          "base_uri": "https://localhost:8080/"
        },
        "collapsed": true,
        "id": "UZ8f-akaD041",
        "outputId": "68ec5672-a40f-493f-e725-68b7471e76bc"
      },
      "outputs": [
        {
          "name": "stdout",
          "output_type": "stream",
          "text": [
            "[1, 5, 10, 10, 5, 1]\n"
          ]
        }
      ],
      "source": [
        "import math as m\n",
        "\n",
        "def pascal_by_loops(n):\n",
        "    pascalList = []\n",
        "    #for loop that utilizes the binomial theorem to produce the pascal coefficients\n",
        "    for i in range(n):\n",
        "        #formula for \"n choose i\"\n",
        "        newElement = m.factorial(n-1)/(m.factorial(i)*m.factorial(n-1-i))\n",
        "        newElement = int(newElement)\n",
        "        pascalList.append(newElement)\n",
        "    return pascalList\n",
        "\n",
        "print(pascal_by_loops(6))"
      ]
    },
    {
      "cell_type": "markdown",
      "metadata": {
        "id": "HvHD6QHzVo9I"
      },
      "source": [
        "\n",
        "\n",
        "---\n",
        "\n",
        "\n",
        "（5 points) good coding practice and properly submitting your work to GitHub."
      ]
    }
  ],
  "metadata": {
    "anaconda-cloud": {},
    "colab": {
      "provenance": []
    },
    "kernelspec": {
      "display_name": "Python 3",
      "language": "python",
      "name": "python3"
    },
    "language_info": {
      "codemirror_mode": {
        "name": "ipython",
        "version": 3
      },
      "file_extension": ".py",
      "mimetype": "text/x-python",
      "name": "python",
      "nbconvert_exporter": "python",
      "pygments_lexer": "ipython3",
      "version": "3.11.3"
    }
  },
  "nbformat": 4,
  "nbformat_minor": 0
}
